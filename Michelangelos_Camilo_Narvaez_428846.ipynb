{
 "cells": [
  {
   "cell_type": "markdown",
   "id": "186039a5",
   "metadata": {},
   "source": [
    "# Michelangelo's\n",
    "\n",
    "Su amigo Chocolove McDonell le comenta que inauguró un nuevo restaurante llamado _Michelangelo's_, el cual se especializa en comida italiana. Como dueño del negocio, Chocolove quiere evaluar la rentabilidad de su negocio, pero no es muy bueno sacando cuentas, razón por la que acude a usted por ayuda. \n",
    "\n",
    "El menú del restaurante es el siguiente:\n",
    "> - Carpaccio... `$ 31.500`\n",
    "> - Polenta... `$ 31.500`\n",
    "> - Panna Cotta... `$ 32.000` \n",
    "> - Macchiato... `$ 12.500` \n",
    "> - Latte... `$ 18.000`\n",
    "> - Cappuccino... `$ 19.500` \n",
    "> - Espresso... `$ 21.500` \n",
    "> - Lasagna... `$ 29.000` \n",
    "> - Risotto... `$ 35.500` \n",
    "> - Gnocchi... `$ 56.500` \n",
    "> - Ravioli... `$ 63.500` \n",
    "\n",
    "Chocolove lleva anotaciones de las ventas realizadas durante la primera semana en un pequeño cuaderno, indicando la fecha y los platos servidos. Le ha compartido la siguientes imágenes:\n",
    "\n",
    "<img src=\"ventas_p1.jpg\" style=\"max-height:400px\">\n",
    "<img src=\"ventas_p2.jpg\" style=\"max-height:400px\">\n",
    "\n",
    "**Tip**: Descarga las imágenes de la carpeta del repositorio para observar el texto con mayor facilidad."
   ]
  },
  {
   "cell_type": "markdown",
   "id": "29ad8ea4",
   "metadata": {},
   "source": [
    "# Menú"
   ]
  },
  {
   "cell_type": "markdown",
   "id": "2797b589",
   "metadata": {},
   "source": [
    "Crea una lista llamada `menu` que contenga los elementos del menú de Michelangelo's."
   ]
  },
  {
   "cell_type": "code",
   "execution_count": 10,
   "id": "3cb128e4",
   "metadata": {},
   "outputs": [
    {
     "name": "stdout",
     "output_type": "stream",
     "text": [
      "['Carpaccio', 'Polenta', 'Panna Cotta', 'Macchiato', 'Latte', 'Cappuccino', 'Espresso', 'Lasagna', 'Risotto', 'Gnocchi', 'Ravioli']\n"
     ]
    }
   ],
   "source": [
    "#Se crea una lista llamada \"Menú\"\n",
    "menu_M = [\"Carpaccio\", \"Polenta\", \"Panna Cotta\", \"Macchiato\", \"Latte\", \"Cappuccino\", \"Espresso\", \"Lasagna\", \"Risotto\", \"Gnocchi\", \"Ravioli\"]\n",
    "print(menu)"
   ]
  },
  {
   "cell_type": "markdown",
   "id": "9c242dcf",
   "metadata": {},
   "source": [
    "Crea una lista llamada `prices` que contenga los precios de los elementos del menú de Michelangelo's. El orden de los precios debe corresponder con el orden de los platos en la lista `menu`."
   ]
  },
  {
   "cell_type": "code",
   "execution_count": 11,
   "id": "2c648e26",
   "metadata": {},
   "outputs": [
    {
     "name": "stdout",
     "output_type": "stream",
     "text": [
      "[31500, 31500, 32000, 12500, 18000, 19500, 21500, 29000, 35500, 56500, 63500]\n"
     ]
    }
   ],
   "source": [
    "#Se crea una lista llamada \"prices\" con los precios de cada platillo\n",
    "prices = [31500, 31500, 32000, 12500, 18000, 19500, 21500, 29000, 35500, 56500, 63500]\n",
    "print(prices)"
   ]
  },
  {
   "cell_type": "markdown",
   "id": "db730bc8",
   "metadata": {},
   "source": [
    "Crea una variable llamada `avg_prc` que almacene el valor del precio promedio de los productos vendidos en Michelangelo's.\n",
    "\n",
    "**Tip**: utiliza la lista `prices` y ciclos para calcular este valor. "
   ]
  },
  {
   "cell_type": "code",
   "execution_count": 12,
   "id": "8d1e899a",
   "metadata": {},
   "outputs": [
    {
     "name": "stdout",
     "output_type": "stream",
     "text": [
      "El precio promedio es: $31909.090909090908\n"
     ]
    }
   ],
   "source": [
    "#Se realiza un promedio del valor de los precios de cada platillo en el menú \n",
    "avg_prc = 0\n",
    "for precio in prices:\n",
    "    avg_prc += precio\n",
    "avg_prc /= len(prices)\n",
    "print(\"El precio promedio es: $\" + str(avg_prc))"
   ]
  },
  {
   "cell_type": "markdown",
   "id": "08393c0c",
   "metadata": {},
   "source": [
    "## Ventas"
   ]
  },
  {
   "cell_type": "markdown",
   "id": "97c049c0",
   "metadata": {},
   "source": [
    "Crea una lista para cada día de la semana que contenga los productos vendidos por Michelangelo's. Nombra las variables de la siguiente forma:\n",
    "- `monday`: lista con las ventas del lunes, 16 de enero de 2023\n",
    "- `tuesday`: lista con las ventas del martes, 17 de enero de 2023\n",
    "- `wednesday`: lista con las ventas del miércoles, 18 de enero de 2023\n",
    "- `thursday`: lista con las ventas del jueves, 19 de enero de 2023\n",
    "- `friday`: lista con las ventas del viernes, 20 de enero de 2023\n",
    "- `saturday`: lista con las ventas del sábado, 21 de enero de 2023\n",
    "- `sunday`: lista con las ventas del domingo, 22 de enero de 2023"
   ]
  },
  {
   "cell_type": "code",
   "execution_count": 13,
   "id": "f2b38aa6",
   "metadata": {},
   "outputs": [
    {
     "name": "stdout",
     "output_type": "stream",
     "text": [
      "Lunes: ['Lasagna', 'Polenta', 'Gnocchi', 'Polenta', 'Ravioli', 'Gnocchi', 'Cappuccino', 'Risotto']\n",
      "\n",
      "Martes: ['Risotto', 'Ravioli', 'Risotto', 'Lasagna', 'Carpaccio', 'Espresso', 'Panna Cotta', 'Gnocchi', 'Gnocchi']\n",
      "\n",
      "Miércoles: ['Cappuccino', 'Lasagna', 'Cappuccino', 'Carpaccio', 'Ravioli', 'Polenta', 'Polenta', 'Carpaccio', 'Espresso', 'Lasagna', 'Risotto', 'Carpaccio']\n",
      "\n",
      "Jueves: ['Latte', 'Risotto', 'Risotto', 'Carpaccio', 'Gnocchi', 'Polenta', 'Espresso', 'Latte', 'Ravioli']\n",
      "\n",
      "Viernes: ['Espresso', 'Gnocchi', 'Gnocchi', 'Cappuccino', 'Gnocchi', 'Panna Cotta']\n",
      "\n",
      "Sábado: ['Risotto', 'Carpaccio', 'Macchiato', 'Cappuccino', 'Risotto', 'Polenta', 'Panna Cotta', 'Ravioli', 'Macchiato', 'Panna Cotta', 'Latte', 'Latte', 'Gnocchi']\n",
      "\n",
      "Domingo: ['Polenta', 'Polenta', 'Espresso', 'Ravioli', 'Risotto', 'Macchiato']\n",
      "\n"
     ]
    }
   ],
   "source": [
    "# PLATILLOS VENDIDOS POR CADA DÍA\n",
    "# Monday\n",
    "monday_i = [7, 1, 9, 1, 10, 9, 5, 8]\n",
    "monday = []\n",
    "for index in monday_i:\n",
    "    monday.append(menu_M[index])\n",
    "print(f'Lunes: {monday}\\n')\n",
    "#Martes\n",
    "tuesday_i = [8, 10, 8, 7, 0, 6, 2, 9, 9]\n",
    "tuesday = []\n",
    "for index in tuesday_i:\n",
    "    tuesday.append(menu_M[index])\n",
    "print(f'Martes: {tuesday}\\n')\n",
    "#Miercoles\n",
    "wednesday_i = [5, 7, 5, 0, 10, 1, 1, 0, 6, 7, 8, 0]\n",
    "wednesday = []\n",
    "for index in wednesday_i:\n",
    "    wednesday.append(menu_M[index])\n",
    "print(f'Miércoles: {wednesday}\\n')\n",
    "#Jueves\n",
    "thursday_i = [4, 8, 8, 0, 9, 1, 6, 4, 10]\n",
    "thursday = []\n",
    "for index in thursday_i:\n",
    "    thursday.append(menu_M[index])\n",
    "print(f'Jueves: {thursday}\\n')\n",
    "#Viernes\n",
    "friday_i = [6, 9, 9, 5, 9, 2]\n",
    "friday = []\n",
    "for index in friday_i:\n",
    "    friday.append(menu_M[index])\n",
    "print(f'Viernes: {friday}\\n')\n",
    "#Sabado\n",
    "saturday_i = [8, 0, 3, 5, 8, 1, 2, 10, 3, 2, 4, 4, 9]\n",
    "saturday = []\n",
    "for index in saturday_i:\n",
    "    saturday.append(menu_M[index])\n",
    "print(f'Sábado: {saturday}\\n')\n",
    "#Domingo\n",
    "sunday_i = [1, 1, 6, 10, 8, 3]\n",
    "sunday = []\n",
    "for index in sunday_i:\n",
    "    sunday.append(menu_M[index])\n",
    "print(f'Domingo: {sunday}\\n')"
   ]
  },
  {
   "cell_type": "code",
   "execution_count": 21,
   "id": "44eebd52",
   "metadata": {},
   "outputs": [
    {
     "name": "stdout",
     "output_type": "stream",
     "text": [
      "Lunes: [29000, 31500, 56500, 31500, 63500, 56500, 19500, 35500]\n",
      "\n",
      "Martes: [35500, 63500, 35500, 29000, 31500, 21500, 32000, 56500, 56500]\n",
      "\n",
      "Miércoles: [19500, 29000, 19500, 31500, 63500, 31500, 31500, 31500, 21500, 29000, 35500, 31500]\n",
      "\n",
      "Jueves: [18000, 35500, 35500, 31500, 56500, 31500, 21500, 18000, 63500]\n",
      "\n",
      "Viernes: [21500, 56500, 56500, 19500, 56500, 32000]\n",
      "\n",
      "Sábado: [35500, 31500, 12500, 19500, 35500, 31500, 32000, 63500, 12500, 32000, 18000, 18000, 56500]\n",
      "\n",
      "Domingo: [31500, 31500, 21500, 63500, 35500, 12500]\n",
      "\n"
     ]
    }
   ],
   "source": [
    "# PLATILLOS VENDIDOS POR CADA DÍA\n",
    "# Monday\n",
    "monday_i_p = [7, 1, 9, 1, 10, 9, 5, 8]\n",
    "monday_p = []\n",
    "for index in monday_i_p:\n",
    "    monday_p.append(prices[index])\n",
    "print(f'Lunes: {monday_p}\\n')\n",
    "#Martes\n",
    "tuesday_i_p = [8, 10, 8, 7, 0, 6, 2, 9, 9]\n",
    "tuesday_p = []\n",
    "for index in tuesday_i_p:\n",
    "    tuesday_p.append(prices[index])\n",
    "print(f'Martes: {tuesday_p}\\n')\n",
    "#Miercoles\n",
    "wednesday_i_p = [5, 7, 5, 0, 10, 1, 1, 0, 6, 7, 8, 0]\n",
    "wednesday_p = []\n",
    "for index in wednesday_i_p:\n",
    "    wednesday_p.append(prices[index])\n",
    "print(f'Miércoles: {wednesday_p}\\n')\n",
    "#Jueves\n",
    "thursday_i_p = [4, 8, 8, 0, 9, 1, 6, 4, 10]\n",
    "thursday_p = []\n",
    "for index in thursday_i_p:\n",
    "    thursday_p.append(prices[index])\n",
    "print(f'Jueves: {thursday_p}\\n')\n",
    "#Viernes\n",
    "friday_i_p = [6, 9, 9, 5, 9, 2]\n",
    "friday_p = []\n",
    "for index in friday_i_p:\n",
    "    friday_p.append(prices[index])\n",
    "print(f'Viernes: {friday_p}\\n')\n",
    "#Sabado\n",
    "saturday_i_p = [8, 0, 3, 5, 8, 1, 2, 10, 3, 2, 4, 4, 9]\n",
    "saturday_p = []\n",
    "for index in saturday_i_p:\n",
    "    saturday_p.append(prices[index])\n",
    "print(f'Sábado: {saturday_p}\\n')\n",
    "#Domingo\n",
    "sunday_i_p = [1, 1, 6, 10, 8, 3]\n",
    "sunday_p = []\n",
    "for index in sunday_i_p:\n",
    "    sunday_p.append(prices[index])\n",
    "print(f'Domingo: {sunday_p}\\n')"
   ]
  },
  {
   "cell_type": "markdown",
   "id": "0727bc22",
   "metadata": {},
   "source": [
    "Calcula el valor total de las ventas para cada día de la semana. Almacena el valor de las ventas en las siguientes variables:\n",
    "- `total_monday`: variable con el valor total de las ventas del día lunes\n",
    "- `total_tuesday`: variable con el valor total de las ventas del día lunes\n",
    "- `total_wednesday`: variable con el valor total de las ventas del día lunes\n",
    "- `total_thursday`: variable con el valor total de las ventas del día lunes\n",
    "- `total_friday`: variable con el valor total de las ventas del día lunes\n",
    "- `total_saturday`: variable con el valor total de las ventas del día lunes\n",
    "- `total_sunday`: variable con el valor total de las ventas del día lunes\n",
    "\n",
    "**Tip**: utiliza ciclos y las listas de los días de la semana. También puedes usar el método `.index()` para obtener el índice de un elemento en una lista."
   ]
  },
  {
   "cell_type": "code",
   "execution_count": 14,
   "id": "0d6e0781",
   "metadata": {},
   "outputs": [
    {
     "name": "stdout",
     "output_type": "stream",
     "text": [
      "Total monday: $323500\n",
      "Total tuesday: $361500\n",
      "Total wednesday: $375000\n",
      "Total thursday: $311500\n",
      "Total friday: $242500\n",
      "Total saturday: $398500\n",
      "Total sunday: $196000\n"
     ]
    }
   ],
   "source": [
    "days = [monday, tuesday, wednesday, thursday, friday, saturday, sunday]\n",
    "days_labels = [\"monday\", \"tuesday\", \"wednesday\", \"thursday\", \"friday\", \"saturday\", \"sunday\"]\n",
    "days_total = []\n",
    "day_i = 0\n",
    "for day in days:\n",
    "    total_day = 0\n",
    "    for dish in day:\n",
    "        total_day +=  prices[menu_M.index(dish)]\n",
    "    days_total.append(total_day)\n",
    "    print(f'Total {days_labels[day_i]}: ${total_day}')    \n",
    "    day_i += 1"
   ]
  },
  {
   "cell_type": "markdown",
   "id": "3cc13c70",
   "metadata": {},
   "source": [
    "¿Cuál es valor total de las ventas de Michelangelo's durante su primera semana?"
   ]
  },
  {
   "cell_type": "code",
   "execution_count": 15,
   "id": "c8d1500f",
   "metadata": {},
   "outputs": [
    {
     "name": "stdout",
     "output_type": "stream",
     "text": [
      "Total: $2208500\n"
     ]
    }
   ],
   "source": [
    "print(f'Total: ${sum(days_total)}')"
   ]
  },
  {
   "cell_type": "markdown",
   "id": "09084c0c",
   "metadata": {},
   "source": [
    "# Análisis de problema #1"
   ]
  },
  {
   "cell_type": "markdown",
   "id": "a8b1e81f",
   "metadata": {},
   "source": [
    "### Gestión de ventas en el restaurant\n"
   ]
  },
  {
   "cell_type": "markdown",
   "id": "4cd4bfc0",
   "metadata": {},
   "source": [
    "##### Menú de Michelangelo's"
   ]
  },
  {
   "cell_type": "code",
   "execution_count": 18,
   "id": "f25c3ed8",
   "metadata": {},
   "outputs": [
    {
     "name": "stdout",
     "output_type": "stream",
     "text": [
      "{'Carpaccio': 31500, 'Polenta': 31500, 'Panna Cotta': 32000, 'Macchiato': 12500, 'Latte': 18000, 'Cappuccino': 19500, 'Espresso': 21500, 'Lasagna': 29000, 'Risotto': 35500, 'Gnocchi': 56500, 'Ravioli': 63500}\n"
     ]
    }
   ],
   "source": [
    "# Se crea un diccionario con el menu y su respectivo valor \n",
    "\n",
    "menu = dict(zip(menu_M,prices)) #Los valores se encuentran en miles de pesos COP\n",
    "print (menu)"
   ]
  },
  {
   "cell_type": "markdown",
   "id": "c987c4de",
   "metadata": {},
   "source": [
    "##### Ventas por día "
   ]
  },
  {
   "cell_type": "markdown",
   "id": "52b81531",
   "metadata": {},
   "source": [
    "- Monday: 16 de enero de 2023\n",
    "- Tuesday:  17 de enero de 2023\n",
    "- Wednesday: 18 de enero de 2023\n",
    "- Thursday: 19 de enero de 2023\n",
    "- Friday: 20 de enero de 2023\n",
    "- Saturday: 21 de enero de 2023\n",
    "- Sunday: 22 de enero de 2023"
   ]
  },
  {
   "cell_type": "code",
   "execution_count": 19,
   "id": "de345030",
   "metadata": {},
   "outputs": [
    {
     "name": "stdout",
     "output_type": "stream",
     "text": [
      "{'2023/01/16': 323500, '2023/01/17': 361500, '2023/01/18': 375000, '2023/01/19': 311500, '2023/01/20': 242500, '2023/01/21': 398500, '2023/01/22': 196000}\n"
     ]
    }
   ],
   "source": [
    "# Primero se pone en lista los de las fechas\n",
    "fecha = ['2023/01/16','2023/01/17','2023/01/18','2023/01/19','2023/01/20','2023/01/21','2023/01/22']\n",
    "\n",
    "# Segundo crea una lista para el valor de ventas total de cada día respectivamente\n",
    "total_ventas = [323500,361500,375000,311500,242500,398500,196000]  #Los valores se encuentran en miles de pesos COP\n",
    "\n",
    "# Se crea un diccionario con la fecha y la cifra de la venta total de ese respectivo día\n",
    "sales = dict(zip(fecha,total_ventas))\n",
    "print (sales)"
   ]
  },
  {
   "cell_type": "markdown",
   "id": "8c06cfb9",
   "metadata": {},
   "source": [
    "##### Platillos y precios de ventas por dia "
   ]
  },
  {
   "cell_type": "code",
   "execution_count": 28,
   "id": "49bbc15d",
   "metadata": {},
   "outputs": [
    {
     "name": "stdout",
     "output_type": "stream",
     "text": [
      "Lunes: {'Lasagna': 29000, 'Polenta': 31500, 'Gnocchi': 56500, 'Ravioli': 63500, 'Cappuccino': 19500, 'Risotto': 35500} \n",
      "Martes: {'Risotto': 35500, 'Ravioli': 63500, 'Lasagna': 29000, 'Carpaccio': 31500, 'Espresso': 21500, 'Panna Cotta': 32000, 'Gnocchi': 56500} \n",
      "Miercoles: {'Cappuccino': 19500, 'Lasagna': 29000, 'Carpaccio': 31500, 'Ravioli': 63500, 'Polenta': 31500, 'Espresso': 21500, 'Risotto': 35500} \n",
      "Jueves: {'Latte': 18000, 'Risotto': 35500, 'Carpaccio': 31500, 'Gnocchi': 56500, 'Polenta': 31500, 'Espresso': 21500, 'Ravioli': 63500} \n",
      "Viernes: {'Espresso': 21500, 'Gnocchi': 56500, 'Cappuccino': 19500, 'Panna Cotta': 32000} \n",
      "Sabado: {'Risotto': 35500, 'Carpaccio': 31500, 'Macchiato': 12500, 'Cappuccino': 19500, 'Polenta': 31500, 'Panna Cotta': 32000, 'Ravioli': 63500, 'Latte': 18000, 'Gnocchi': 56500} \n",
      "Domingo: {'Polenta': 31500, 'Espresso': 21500, 'Ravioli': 63500, 'Risotto': 35500, 'Macchiato': 12500} \n"
     ]
    }
   ],
   "source": [
    "Lunes = dict(zip(monday,monday_p))\n",
    "Martes = dict(zip(tuesday,tuesday_p))\n",
    "Miercoles = dict(zip(wednesday,wednesday_p))\n",
    "Jueves = dict(zip(thursday,thursday_p))\n",
    "Viernes = dict(zip(friday, friday_p))\n",
    "Sabado = dict(zip(saturday, saturday_p))\n",
    "Domingo = dict(zip(sunday, sunday_p))\n",
    "\n",
    "print (f\"Lunes: {Lunes} \")\n",
    "print (f\"Martes: {Martes} \")\n",
    "print (f\"Miercoles: {Miercoles} \")\n",
    "print (f\"Jueves: {Jueves} \")\n",
    "print (f\"Viernes: {Viernes} \")\n",
    "print (f\"Sabado: {Sabado} \")\n",
    "print (f\"Domingo: {Domingo} \")"
   ]
  },
  {
   "cell_type": "markdown",
   "id": "025f025f",
   "metadata": {},
   "source": [
    "##### ADD_SALE"
   ]
  },
  {
   "cell_type": "code",
   "execution_count": 37,
   "id": "af2b349d",
   "metadata": {},
   "outputs": [
    {
     "name": "stdout",
     "output_type": "stream",
     "text": [
      "{'Lasagna': 29000, 'Polenta': 31500, 'Gnocchi': 56500, 'Ravioli': 63500, 'Cappuccino': 19500, 'Risotto': 35500}\n",
      "Ese plato no está en el menú\n"
     ]
    }
   ],
   "source": [
    "# Se realiza una funcion para agregar nuevas ventas al sistemas \n",
    "\n",
    "def add_sale ():\n",
    "    Lunes.update({\"Risotto\":35500, \"Risotto\":35500})\n",
    "print(Lunes)\n",
    "new_plato = \"Mondongo\"\n",
    "\n",
    "try:\n",
    "    print(Lunes[new_plato])\n",
    "except KeyError:\n",
    "    print(\"Ese plato no está en el menú\")"
   ]
  },
  {
   "cell_type": "markdown",
   "id": "4f19e20a",
   "metadata": {},
   "source": [
    "##### CALCULATE_TOTAL_DATE"
   ]
  },
  {
   "cell_type": "code",
   "execution_count": null,
   "id": "30e0d280",
   "metadata": {},
   "outputs": [],
   "source": [
    "# Se realiza la fumción para calcular ñlas ventas totales en un dia\n",
    "\n",
    "def calculate_total_date():\n",
    "        sales.get()\n",
    "        \n",
    "try:\n",
    "    print(Lunes[FECHA])\n",
    "except KeyError:\n",
    "    print(\"Esa FECHA no está ingresada en el sistema\")"
   ]
  },
  {
   "cell_type": "markdown",
   "id": "a2cb5705",
   "metadata": {},
   "source": [
    "##### CALCULATE_TOTAL_SALES"
   ]
  },
  {
   "cell_type": "code",
   "execution_count": null,
   "id": "f2dcb95b",
   "metadata": {},
   "outputs": [],
   "source": [
    "# Se realiza la fumción para calcular ñlas ventas totales del restaurante\n",
    "\n",
    "def calculate_total_sales():\n",
    "    days_venta = [monday_p, tuesday_p, wednesday, thursday, friday, saturday, sunday]\n"
   ]
  }
 ],
 "metadata": {
  "kernelspec": {
   "display_name": "Python 3 (ipykernel)",
   "language": "python",
   "name": "python3"
  },
  "language_info": {
   "codemirror_mode": {
    "name": "ipython",
    "version": 3
   },
   "file_extension": ".py",
   "mimetype": "text/x-python",
   "name": "python",
   "nbconvert_exporter": "python",
   "pygments_lexer": "ipython3",
   "version": "3.9.13"
  }
 },
 "nbformat": 4,
 "nbformat_minor": 5
}
